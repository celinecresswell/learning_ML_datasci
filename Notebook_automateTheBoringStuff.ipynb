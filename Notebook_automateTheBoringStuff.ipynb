{
  "nbformat": 4,
  "nbformat_minor": 0,
  "metadata": {
    "colab": {
      "provenance": [],
      "collapsed_sections": [
        "Ilno_gFT5KwY",
        "7QsNblOhG5hC",
        "ces0REwp0M01"
      ],
      "toc_visible": true,
      "authorship_tag": "ABX9TyO/giQYVBj0BiDl/pR5qYpA",
      "include_colab_link": true
    },
    "kernelspec": {
      "name": "python3",
      "display_name": "Python 3"
    },
    "language_info": {
      "name": "python"
    }
  },
  "cells": [
    {
      "cell_type": "markdown",
      "metadata": {
        "id": "view-in-github",
        "colab_type": "text"
      },
      "source": [
        "<a href=\"https://colab.research.google.com/github/celinecresswell/learning_ML_datasci/blob/main/Notebook_automateTheBoringStuff.ipynb\" target=\"_parent\"><img src=\"https://colab.research.google.com/assets/colab-badge.svg\" alt=\"Open In Colab\"/></a>"
      ]
    },
    {
      "cell_type": "markdown",
      "source": [
        "# **Excersises and learning points from reading \"How to Automate the Boring Stuff by Albert Sweigart\"**"
      ],
      "metadata": {
        "id": "4WrVmKkq49dq"
      }
    },
    {
      "cell_type": "markdown",
      "source": [
        "# Chapter: Lists"
      ],
      "metadata": {
        "id": "Ilno_gFT5KwY"
      }
    },
    {
      "cell_type": "markdown",
      "source": [
        "A list is a value that contains multiple values.\n",
        "\n",
        "LIST VALUE = the list itself"
      ],
      "metadata": {
        "id": "GDC1ZcNW5P1A"
      }
    },
    {
      "cell_type": "code",
      "execution_count": null,
      "metadata": {
        "colab": {
          "base_uri": "https://localhost:8080/",
          "height": 36
        },
        "id": "cPbOyiJ0436L",
        "outputId": "0b1b8483-3aac-4600-a295-c1bd7b74bfac"
      },
      "outputs": [
        {
          "output_type": "execute_result",
          "data": {
            "text/plain": [
              "'cat'"
            ],
            "application/vnd.google.colaboratory.intrinsic+json": {
              "type": "string"
            }
          },
          "metadata": {},
          "execution_count": 1
        }
      ],
      "source": [
        "#Create a list \n",
        "spam = ['cat','elephant', 'bat', 'rat']\n",
        "#Index expressions\n",
        "spam[0]\n",
        "#spam[0] would evaluate to 'cat'"
      ]
    },
    {
      "cell_type": "markdown",
      "source": [
        "Indexes cannot be floats, they must be integer values."
      ],
      "metadata": {
        "id": "zWfH5PEz56J8"
      }
    },
    {
      "cell_type": "markdown",
      "source": [
        "Lists can contain other list values.\n",
        "These can be accessed like so..."
      ],
      "metadata": {
        "id": "1LYN93IC6Q8l"
      }
    },
    {
      "cell_type": "code",
      "source": [
        "spam2 = [['cat','fatcat'],[1,2,3,]]\n",
        "spam2[0][1]"
      ],
      "metadata": {
        "colab": {
          "base_uri": "https://localhost:8080/",
          "height": 36
        },
        "id": "hqp8RR-U6ajh",
        "outputId": "4f13da9b-6a23-4e29-c57b-6a71e59923a4"
      },
      "execution_count": null,
      "outputs": [
        {
          "output_type": "execute_result",
          "data": {
            "text/plain": [
              "'fatcat'"
            ],
            "application/vnd.google.colaboratory.intrinsic+json": {
              "type": "string"
            }
          },
          "metadata": {},
          "execution_count": 2
        }
      ]
    },
    {
      "cell_type": "markdown",
      "source": [
        "You can change values within a list using indexes"
      ],
      "metadata": {
        "id": "-45XHq0i6uiF"
      }
    },
    {
      "cell_type": "code",
      "source": [
        "spam2[0][0] = 'thefattestcat'\n",
        "spam2"
      ],
      "metadata": {
        "colab": {
          "base_uri": "https://localhost:8080/"
        },
        "id": "AK2RjtGT6oPN",
        "outputId": "1d7c2fa4-27a8-4316-d778-20a1025d7d41"
      },
      "execution_count": null,
      "outputs": [
        {
          "output_type": "execute_result",
          "data": {
            "text/plain": [
              "[['thefattestcat', 'fatcat'], [1, 2, 3]]"
            ]
          },
          "metadata": {},
          "execution_count": 3
        }
      ]
    },
    {
      "cell_type": "code",
      "source": [
        "# Small example excersise to demonstrate improved code using lists\n",
        "\n",
        "catNames = []\n",
        "while True:\n",
        "  print('Enter the name of cat' + str(len(catNames)+1) +'(Or enter nothing to finish list):')\n",
        "  name = input()\n",
        "  if name == '':\n",
        "    break\n",
        "  catNames = catNames + [name]\n",
        "print('The cat names are:')\n",
        "for name in catNames:\n",
        "  print(''+name)"
      ],
      "metadata": {
        "colab": {
          "base_uri": "https://localhost:8080/"
        },
        "id": "Fv3Kb_t47U_M",
        "outputId": "976cc47c-8988-4fa6-865e-472cc283fb33"
      },
      "execution_count": null,
      "outputs": [
        {
          "output_type": "stream",
          "name": "stdout",
          "text": [
            "Enter the name of cat1(Or enter nothing to finish list):\n",
            "aurelius\n",
            "Enter the name of cat2(Or enter nothing to finish list):\n",
            "twinkle\n",
            "Enter the name of cat3(Or enter nothing to finish list):\n",
            "honey\n",
            "Enter the name of cat4(Or enter nothing to finish list):\n",
            "\n",
            "The cat names are:\n",
            "aurelius\n",
            "twinkle\n",
            "honey\n"
          ]
        }
      ]
    },
    {
      "cell_type": "code",
      "source": [
        "catSizes = ['small','medium','big']\n",
        "for i in range(len(catSizes)):\n",
        "  print('Index ' + str(i) + (' in catSizes is:')+ catSizes[i])"
      ],
      "metadata": {
        "colab": {
          "base_uri": "https://localhost:8080/"
        },
        "id": "84B1lR5y-H3X",
        "outputId": "1b3daf45-6750-49e0-efb1-c2dadfe65ccf"
      },
      "execution_count": null,
      "outputs": [
        {
          "output_type": "stream",
          "name": "stdout",
          "text": [
            "Index 0 in catSizes is:small\n",
            "Index 1 in catSizes is:medium\n",
            "Index 2 in catSizes is:big\n"
          ]
        }
      ]
    },
    {
      "cell_type": "markdown",
      "source": [
        "In and Not operators = Expressions used to connect two values\n",
        "Purpose = to determine whether a value is or isn't within a list"
      ],
      "metadata": {
        "id": "9vycZpCa-5b8"
      }
    },
    {
      "cell_type": "code",
      "source": [
        "#Louis wants to pick the pet name, but Celine only lets him pick from a list \n",
        "#of preselected names.\n",
        "nameOptions = ['Tibs','Auri','Auggy']\n",
        "print('Please input pet name of choice:')\n",
        "name = input()\n",
        "if name not in nameOptions:\n",
        "  print('That is not a preapproved name.')\n",
        "  name = input()\n",
        "else:\n",
        "      print('Nice choice')"
      ],
      "metadata": {
        "colab": {
          "base_uri": "https://localhost:8080/"
        },
        "id": "8WVCigKH-2mQ",
        "outputId": "2ad72028-317b-4ac8-b575-ca2267b55528"
      },
      "execution_count": null,
      "outputs": [
        {
          "name": "stdout",
          "output_type": "stream",
          "text": [
            "Please input pet name of choice:\n",
            "louis\n",
            "That is not a preapproved name.\n",
            "Tibs\n"
          ]
        }
      ]
    },
    {
      "cell_type": "markdown",
      "source": [
        "Methods \"called on\" a value\n",
        "\n",
        "Methods belong to a single data type\n",
        "\n",
        "Add values to list using, .append() and .list()\n",
        "listname.append('thingtoappend')\n",
        "listname.insert(2, 'thingToInsertIntoAparticularPosition')"
      ],
      "metadata": {
        "id": "CbXOlGvyCMIx"
      }
    },
    {
      "cell_type": "markdown",
      "source": [
        "End of Chapter Practice Excersise"
      ],
      "metadata": {
        "id": "FwrLTQ3v74W5"
      }
    },
    {
      "cell_type": "markdown",
      "source": [
        "Comma code\n",
        "A function\n",
        "Takes a list value as an argument\n",
        "returns a string will all the items seperated by a comma and a spcae, with and inserted before the last item."
      ],
      "metadata": {
        "id": "JCJXF1li_lK6"
      }
    },
    {
      "cell_type": "code",
      "source": [
        "def listToString(list):\n",
        "  list.insert(-1, ', and')\n",
        "  string = str(list)\n",
        "  return print(string)"
      ],
      "metadata": {
        "id": "h-RYZRfd7-Kl"
      },
      "execution_count": null,
      "outputs": []
    },
    {
      "cell_type": "code",
      "source": [
        "google = ['apple','banana', 'carrot', 'kiwi']\n",
        "listToString(google)"
      ],
      "metadata": {
        "colab": {
          "base_uri": "https://localhost:8080/"
        },
        "id": "wML0HAQUBinZ",
        "outputId": "c26a80de-058c-4bcd-8fd6-194422fa226d"
      },
      "execution_count": null,
      "outputs": [
        {
          "output_type": "stream",
          "name": "stdout",
          "text": [
            "['apple', 'banana', 'carrot', ', and', 'kiwi']\n"
          ]
        }
      ]
    },
    {
      "cell_type": "code",
      "source": [
        "#Improved code using extra techniwues\n",
        "def optimisedEx1(list):\n",
        "    return ', '.join(map(str,list[:-1])) + ' and ' + str(list[-1])\n",
        "spam = ['apples', 'bananas', 'tofu', 'cats']\n",
        "print(optimisedEx1(spam))"
      ],
      "metadata": {
        "colab": {
          "base_uri": "https://localhost:8080/"
        },
        "id": "t94DsQedDNVP",
        "outputId": "38c1ad1a-06da-4a33-82b3-a9dbcef3a53b"
      },
      "execution_count": null,
      "outputs": [
        {
          "output_type": "stream",
          "name": "stdout",
          "text": [
            "apples, bananas, tofu and cats\n"
          ]
        }
      ]
    },
    {
      "cell_type": "markdown",
      "source": [
        "The improved code above used .join() and map()\n",
        "','.join(map(str,list[:-1]))\n",
        "\n",
        "This joins all the list elements up until the last and converts them to a string.\n",
        "\n",
        "str(list[-1])\n",
        "\n",
        "This adds on the final index list value."
      ],
      "metadata": {
        "id": "sAnSMeZJDjL1"
      }
    },
    {
      "cell_type": "markdown",
      "source": [
        "Character picture grid excercise"
      ],
      "metadata": {
        "id": "WbJuGCWtETV5"
      }
    },
    {
      "cell_type": "code",
      "source": [
        "grid = [['.', '.', '.', '.', '.', '.'],\n",
        "        ['.', 'O', 'O', '.', '.', '.'],\n",
        "        ['O', 'O', 'O', 'O', '.', '.'],\n",
        "        ['O', 'O', 'O', 'O', 'O', '.'],\n",
        "        ['.', 'O', 'O', 'O', 'O', 'O'],\n",
        "        ['O', 'O', 'O', 'O', 'O', '.'],\n",
        "        ['O', 'O', 'O', 'O', '.', '.'],\n",
        "        ['.', 'O', 'O', '.', '.', '.'],\n",
        "        ['.', '.', '.', '.', '.', '.']]"
      ],
      "metadata": {
        "id": "UPldYynAEA0x"
      },
      "execution_count": null,
      "outputs": []
    },
    {
      "cell_type": "code",
      "source": [
        "for i in range(6):\n",
        "    for a in range(9):\n",
        "        if a < 8:\n",
        "            print(grid[a][i], end=\"\")\n",
        "        else:\n",
        "            print(grid[a][i])"
      ],
      "metadata": {
        "colab": {
          "base_uri": "https://localhost:8080/"
        },
        "id": "pWfexhddFW4p",
        "outputId": "2356103c-e147-4353-b628-9b1947dc01da"
      },
      "execution_count": null,
      "outputs": [
        {
          "output_type": "stream",
          "name": "stdout",
          "text": [
            "..OO.OO..\n",
            ".OOOOOOO.\n",
            ".OOOOOOO.\n",
            "..OOOOO..\n",
            "...OOO...\n",
            "....O....\n"
          ]
        }
      ]
    },
    {
      "cell_type": "markdown",
      "source": [
        "\n",
        "# **Chapter: Dictionaries**"
      ],
      "metadata": {
        "id": "7QsNblOhG5hC"
      }
    },
    {
      "cell_type": "markdown",
      "source": [
        "Dictionaries are a collection of many values\n",
        "\n",
        "Dictionaries have \"indexes like lists\" called keys\n",
        "\n",
        "A key and it's associated value is called a key-value pair\n",
        "\n",
        "Dictionaries use braces{}\n",
        "\n",
        "Dictionaries are unordered. This means: They cant be sliced like lists, if the keys are in different orders in two dictionaries then the two dictionaries can still be considered the same."
      ],
      "metadata": {
        "id": "IPIWHJrkG9p4"
      }
    },
    {
      "cell_type": "code",
      "source": [
        "birthdays = {'Louis':'23 Nov','Lu':'9 July','Molly':'26 May'}\n",
        "\n",
        "while True:\n",
        "  print('Enter a name or leave blank to quit')\n",
        "  name = input()\n",
        "  if name == '':\n",
        "    break\n",
        "\n",
        "  if name in birthdays:\n",
        "    print(birthdays[name] + ' is the birthday of ' + name)\n",
        "  else:\n",
        "    print('I do not have the birthday of '+ name)\n",
        "    print('What is their birthday?')\n",
        "    birthdayInput = input()\n",
        "    birthdays[name] = birthdayInput\n",
        "    print('Database has been updated.')"
      ],
      "metadata": {
        "colab": {
          "base_uri": "https://localhost:8080/"
        },
        "id": "xWWCRLn-H8Ya",
        "outputId": "5a3bc332-53d2-4705-a5ea-ffa730a48331"
      },
      "execution_count": null,
      "outputs": [
        {
          "name": "stdout",
          "output_type": "stream",
          "text": [
            "Enter a name or leave blank to quit\n",
            "Meg\n",
            "I do not have the birthday of Meg\n",
            "What is their birthday?\n",
            "16 March\n",
            "Database has been updated.\n",
            "Enter a name or leave blank to quit\n",
            "Meg\n",
            "16 March is the birthday of Meg\n",
            "Enter a name or leave blank to quit\n",
            "\n"
          ]
        }
      ]
    },
    {
      "cell_type": "markdown",
      "source": [
        "3 dictionary methods: .keys(), values() and .items()\n",
        "\n",
        "The returned values are not actually lists."
      ],
      "metadata": {
        "id": "dhg00JGBKWL0"
      }
    },
    {
      "cell_type": "code",
      "source": [
        "dictEx = {'colour':'purple','size':'small'}\n",
        "dictEx.keys()"
      ],
      "metadata": {
        "colab": {
          "base_uri": "https://localhost:8080/"
        },
        "id": "zPusz6lFKVvw",
        "outputId": "8b8d742a-5491-4816-afa4-62232f5e8c28"
      },
      "execution_count": null,
      "outputs": [
        {
          "output_type": "execute_result",
          "data": {
            "text/plain": [
              "dict_keys(['colour', 'size'])"
            ]
          },
          "metadata": {},
          "execution_count": 23
        }
      ]
    },
    {
      "cell_type": "code",
      "source": [
        "list(dictEx.keys())"
      ],
      "metadata": {
        "colab": {
          "base_uri": "https://localhost:8080/"
        },
        "id": "am2Y4GCJK7_f",
        "outputId": "0059afdf-67e1-4154-9c32-3c1ebfab00bd"
      },
      "execution_count": null,
      "outputs": [
        {
          "output_type": "execute_result",
          "data": {
            "text/plain": [
              "['colour', 'size']"
            ]
          },
          "metadata": {},
          "execution_count": 24
        }
      ]
    },
    {
      "cell_type": "code",
      "source": [
        "for k,v in dictEx:\n",
        "  print('Key: ' + k + ' Value: ' + v)"
      ],
      "metadata": {
        "colab": {
          "base_uri": "https://localhost:8080/",
          "height": 189
        },
        "id": "2xvUZ-ZSLan1",
        "outputId": "72db3eea-469d-4c9f-d08c-990375c20ec4"
      },
      "execution_count": null,
      "outputs": [
        {
          "output_type": "error",
          "ename": "ValueError",
          "evalue": "ignored",
          "traceback": [
            "\u001b[0;31m---------------------------------------------------------------------------\u001b[0m",
            "\u001b[0;31mValueError\u001b[0m                                Traceback (most recent call last)",
            "\u001b[0;32m<ipython-input-25-b7f3cb4247c7>\u001b[0m in \u001b[0;36m<module>\u001b[0;34m()\u001b[0m\n\u001b[0;32m----> 1\u001b[0;31m \u001b[0;32mfor\u001b[0m \u001b[0mk\u001b[0m\u001b[0;34m,\u001b[0m\u001b[0mv\u001b[0m \u001b[0;32min\u001b[0m \u001b[0mdictEx\u001b[0m\u001b[0;34m:\u001b[0m\u001b[0;34m\u001b[0m\u001b[0;34m\u001b[0m\u001b[0m\n\u001b[0m\u001b[1;32m      2\u001b[0m   \u001b[0mprint\u001b[0m\u001b[0;34m(\u001b[0m\u001b[0;34m'Key: '\u001b[0m \u001b[0;34m+\u001b[0m \u001b[0mk\u001b[0m \u001b[0;34m+\u001b[0m \u001b[0;34m' Value: '\u001b[0m \u001b[0;34m+\u001b[0m \u001b[0mv\u001b[0m\u001b[0;34m)\u001b[0m\u001b[0;34m\u001b[0m\u001b[0;34m\u001b[0m\u001b[0m\n",
            "\u001b[0;31mValueError\u001b[0m: too many values to unpack (expected 2)"
          ]
        }
      ]
    },
    {
      "cell_type": "code",
      "source": [
        "# don't forget .items()\n",
        "for k,v in dictEx.items():\n",
        "  print('Key: ' + k + ' Value: ' + v)"
      ],
      "metadata": {
        "colab": {
          "base_uri": "https://localhost:8080/"
        },
        "id": "iyMOJiDyLtcC",
        "outputId": "7d3b6fed-6f26-48ae-cdbc-5faa851d4bf3"
      },
      "execution_count": null,
      "outputs": [
        {
          "output_type": "stream",
          "name": "stdout",
          "text": [
            "Key: colour Value: purple\n",
            "Key: size Value: small\n"
          ]
        }
      ]
    },
    {
      "cell_type": "markdown",
      "source": [
        "To check whether a key exists in a dictionary use the .get() method\n",
        "\n",
        "The method takes two arguments:\n",
        "1. the key of the value to retrieve\n",
        "2. a fallback value to return if the key does not exist"
      ],
      "metadata": {
        "id": "AmGv1Ot0MVXZ"
      }
    },
    {
      "cell_type": "code",
      "source": [
        "dictEx.get('colour','no colour')"
      ],
      "metadata": {
        "colab": {
          "base_uri": "https://localhost:8080/",
          "height": 36
        },
        "id": "t64C07NbM8qv",
        "outputId": "05b9a7ac-2e91-42f1-a086-ce65b3d9c3db"
      },
      "execution_count": null,
      "outputs": [
        {
          "output_type": "execute_result",
          "data": {
            "text/plain": [
              "'purple'"
            ],
            "application/vnd.google.colaboratory.intrinsic+json": {
              "type": "string"
            }
          },
          "metadata": {},
          "execution_count": 28
        }
      ]
    },
    {
      "cell_type": "code",
      "source": [
        "import pprint\n",
        "message = 'I miss Louis so much.'\n",
        "count={}\n",
        "for character in message:\n",
        "  count.setdefault(character,0)\n",
        "  count[character] = count[character] + 1\n",
        "\n",
        "pprint.pprint(count)"
      ],
      "metadata": {
        "colab": {
          "base_uri": "https://localhost:8080/"
        },
        "id": "U0Tx6uKlPTDX",
        "outputId": "837e68da-483a-433c-e862-0ff494c1f214"
      },
      "execution_count": null,
      "outputs": [
        {
          "output_type": "stream",
          "name": "stdout",
          "text": [
            "{' ': 4,\n",
            " '.': 1,\n",
            " 'I': 1,\n",
            " 'L': 1,\n",
            " 'c': 1,\n",
            " 'h': 1,\n",
            " 'i': 2,\n",
            " 'm': 2,\n",
            " 'o': 2,\n",
            " 's': 4,\n",
            " 'u': 2}\n"
          ]
        }
      ]
    },
    {
      "cell_type": "markdown",
      "source": [
        "Tic Tac Toe board example"
      ],
      "metadata": {
        "id": "2Nhh2Dd6Qqev"
      }
    },
    {
      "cell_type": "code",
      "source": [
        "theBoard = {'topL':'','topM':'','topR':'',\n",
        "            'midL':'','MidM':'','MidR':'',\n",
        "            'lowL':'','lowM':'','lowR':''}\n",
        "            "
      ],
      "metadata": {
        "id": "Dp_hmRzUQtVF"
      },
      "execution_count": null,
      "outputs": []
    },
    {
      "cell_type": "markdown",
      "source": [
        "# Practice Projects"
      ],
      "metadata": {
        "id": "H8CouTGZiUJo"
      }
    },
    {
      "cell_type": "markdown",
      "source": [
        "Fantasy Game inventory\n",
        "\n",
        "Dictionary is the inventory, saying how many item of that there is\n",
        "item is the key\n",
        "value is the number of that item in their inventory\n"
      ],
      "metadata": {
        "id": "1WVKpgp9iWjB"
      }
    },
    {
      "cell_type": "code",
      "source": [
        "inventory = {'arrow':12,'gold coin':42,'rope':1,'torch':6,'dagger':1}\n",
        "print('Inventory:')\n",
        "total = 0\n",
        "for k,v in inventory.items():\n",
        "  print(str(v), k)\n",
        "  total = total + v\n",
        "print('Total number of items: '+ str(total))"
      ],
      "metadata": {
        "colab": {
          "base_uri": "https://localhost:8080/"
        },
        "id": "4Ae-P4HwizSd",
        "outputId": "0e5ecc15-5fa2-4294-bbd0-9452d6e8d36b"
      },
      "execution_count": null,
      "outputs": [
        {
          "output_type": "stream",
          "name": "stdout",
          "text": [
            "Inventory:\n",
            "12 arrow\n",
            "42 gold coin\n",
            "1 rope\n",
            "6 torch\n",
            "1 dagger\n",
            "Total number of items: 62\n"
          ]
        }
      ]
    },
    {
      "cell_type": "markdown",
      "source": [
        "List to Dictionary Function for Fantasy Game Inventory"
      ],
      "metadata": {
        "id": "rCLUjCTsk_7z"
      }
    },
    {
      "cell_type": "code",
      "source": [
        "dragonLoot = ['gold coin','dagger','gold coin','ruby']"
      ],
      "metadata": {
        "id": "co0BxFfboRbq"
      },
      "execution_count": null,
      "outputs": []
    },
    {
      "cell_type": "code",
      "source": [
        "def addtoinventory(inventory,lootlist):\n",
        "    for i in range(len(lootlist)):\n",
        "        if lootlist[i] in inventory:\n",
        "            inventory[lootlist[i]] = inventory[lootlist[i]] + 1\n",
        "        else:\n",
        "            inventory.setdefault(lootlist[i],1)\n",
        "    return inventory\n",
        "\n",
        "inv = {'gold coin':42, 'rope':1}\n",
        "addtoinventory(inventory,dragonLoot)\n"
      ],
      "metadata": {
        "colab": {
          "base_uri": "https://localhost:8080/"
        },
        "id": "oLlRAb-Wm4uE",
        "outputId": "7281a12b-42ad-488e-8a94-b79e3fe9fcd7"
      },
      "execution_count": null,
      "outputs": [
        {
          "output_type": "stream",
          "name": "stdout",
          "text": [
            "12arrow\n",
            "54gold coin\n",
            "1rope\n",
            "6torch\n",
            "7dagger\n",
            "6ruby\n",
            "Total number of items: 382\n"
          ]
        }
      ]
    },
    {
      "cell_type": "markdown",
      "source": [
        "# **Chapter: Strings**"
      ],
      "metadata": {
        "id": "ces0REwp0M01"
      }
    },
    {
      "cell_type": "markdown",
      "source": [
        "The escape character \\ allows you to use characters that might not be possible to put inside of a string."
      ],
      "metadata": {
        "id": "pEjzAseY0bM4"
      }
    },
    {
      "cell_type": "code",
      "source": [
        "print('Hi my name\\'s Celine')\n",
        "print(\"Hi my name\\\"s Celine\")\n",
        "print('Idk what tab is \\t sheee')\n",
        "print('I actually want to see the backslash \\\\')\n",
        "print('This will span across n\\ two lines')"
      ],
      "metadata": {
        "colab": {
          "base_uri": "https://localhost:8080/"
        },
        "id": "yngoNWXw0POY",
        "outputId": "9a898b46-eede-4d47-fa7b-010265ac1542"
      },
      "execution_count": null,
      "outputs": [
        {
          "output_type": "stream",
          "name": "stdout",
          "text": [
            "Hi my name's Celine\n",
            "Hi my name\"s Celine\n",
            "Idk what tab is \t sheee\n",
            "I actually want to see the backslash \\\n",
            "This will span across n\\ two lines\n"
          ]
        }
      ]
    },
    {
      "cell_type": "markdown",
      "source": [
        "Raw strings are useful for string values that contain many backslashes.\n",
        "\n",
        "An alternate to the \\n escape character is triple quotes. '''"
      ],
      "metadata": {
        "id": "0Qum6Uoy1Q_N"
      }
    },
    {
      "cell_type": "markdown",
      "source": [
        "Slicing a string does not modify the original string. You can capture a slice from one variable in a seperate variable.\n",
        "\n",
        "in and not in can be used with strings, as done with list values.\n"
      ],
      "metadata": {
        "id": "n5fogGTW12sQ"
      }
    },
    {
      "cell_type": "markdown",
      "source": [
        "is string methods:\n",
        "\n",
        "1. .islower()\n",
        "2. .isupper()\n",
        "3. .isalpha()\n",
        "4. .isdecimal()\n",
        "5. .islanum() : Returns true if the string consists only of letters and numbers and is not blank\n",
        "6. .isdecimal() : Returns True if the string only contains numeric characters and is not blank.\n",
        "7. .isspace() : Returns true if it only contains spaces, tab, new-lines and is not blank.\n",
        "8. .istitle() : Returns true if all the words in the string only start with upper case and then are followed by lowercase characters."
      ],
      "metadata": {
        "id": "A0_bVp2J3NCh"
      }
    },
    {
      "cell_type": "code",
      "source": [
        "# Excersise to demonstrate the is methods\n",
        "while True:\n",
        "  print('Enter your age')\n",
        "  age = input()\n",
        "  if age.isdecimal():\n",
        "    break\n",
        "  print('Please enter a number for your age')\n",
        "\n",
        "while True:\n",
        "  print('Please enter a password consisting only of numbers and letters')\n",
        "  password = input()\n",
        "  if password.isalnum():\n",
        "    break\n",
        "  print('Passwords can only have numbers and letters')"
      ],
      "metadata": {
        "colab": {
          "base_uri": "https://localhost:8080/"
        },
        "id": "cRes8Z4U2L1b",
        "outputId": "b3b7e19d-b867-4f3a-fd07-98585c548f9e"
      },
      "execution_count": null,
      "outputs": [
        {
          "name": "stdout",
          "output_type": "stream",
          "text": [
            "Enter your age\n",
            "15\n",
            "Please enter a password consisting only of numbers and letters\n",
            "**\n",
            "Passwords can only have numbers and letters\n",
            "Please enter a password consisting only of numbers and letters\n",
            "hello\n"
          ]
        }
      ]
    },
    {
      "cell_type": "markdown",
      "source": [
        ".startswith()\n",
        ".endswith()\n",
        "These are useful strings if you need to check whether the first or last part of the string is equal to another string\n",
        "\n",
        ".join()\n",
        ".split()\n",
        "\n",
        ".rjust()\n",
        ".ljust()\n",
        "\n",
        "taking these further \n",
        "\n",
        ".rjust(20) (shifts to the right by 20 spaces)\n",
        ".rjust(20, '-') shifts to the right by 20 -"
      ],
      "metadata": {
        "id": "tojM6oW6514C"
      }
    },
    {
      "cell_type": "code",
      "source": [
        "def printPicnic(itemsDict, leftWidth, rightWidth):\n",
        "  print('PICNIC ITEMS'.center(leftWidth+rightWidth, '-'))\n",
        "  for k, v in itemsDict.items():\n",
        "    print(k.ljust(leftWidth,'.')+str(v).rjust(rightWidth))\n",
        "\n",
        "picnicItems = {'sandwiches':4,'apples':12,'cups':3,'cookies':3000}\n",
        "\n",
        "printPicnic(picnicItems, 25,3)"
      ],
      "metadata": {
        "colab": {
          "base_uri": "https://localhost:8080/"
        },
        "id": "bgiokjwP7FDk",
        "outputId": "3014059e-afd2-4306-9fa1-726e389f455d"
      },
      "execution_count": null,
      "outputs": [
        {
          "output_type": "stream",
          "name": "stdout",
          "text": [
            "--------PICNIC ITEMS--------\n",
            "sandwiches...............  4\n",
            "apples................... 12\n",
            "cups.....................  3\n",
            "cookies..................3000\n"
          ]
        }
      ]
    },
    {
      "cell_type": "markdown",
      "source": [
        "## Table Print practice project\n",
        "\n",
        "A function that takes a list of list of strings...\n",
        "Organises it into a table\n",
        "each column is right justified\n",
        "\n",
        "Assume all the inner strings will contain the same number of strings\n"
      ],
      "metadata": {
        "id": "WZRKc7bG9Mz1"
      }
    },
    {
      "cell_type": "code",
      "source": [
        "tableData = [['apples','oranges','cherries','bananas'],['Alice','Bob','Carol','David'],['dpg','cat','goose','moose']]\n",
        "\n",
        "def printTable(table):\n",
        "# empty dictonary for sorting the data\n",
        "  newTable = {0:[], 1:[], 2:[], 3:[]}\n",
        "\n",
        "# iterate through each list in tableData, put the first of all the lists into \n",
        "#key 0 , the second of all the lists into key 1 etc\n",
        "  for li in tableData:\n",
        "      for i in range(len(li)):\n",
        "          # put each item of tableData into newTable by index\n",
        "          newTable[i].append(li[i])\n",
        "  # determine the longest list by number of total characters\n",
        "  # for instance ['apples', 'Alice', 'dogs'] would be 15 characters\n",
        "  # we will start with longest being zero at the start\n",
        "  longest = 0\n",
        "  # iterate through newTable\n",
        "  # for example the first key:value will be 0:['apples', 'Alice', 'dogs']\n",
        "  # we only really care about the value (the list) in this case\n",
        "  for key, value in newTable.items():\n",
        "      # determine the total characters in each list\n",
        "      # so effectively len('applesAlicedogs') for the first list\n",
        "      length = len(''.join(value))\n",
        "      # if the length is the longest length so far,\n",
        "      # make that equal longest\n",
        "      if length > longest:\n",
        "          longest = length\n",
        "\n",
        "  # we will loop through the newTable one last time\n",
        "  # printing spaces infront of each list equal to the difference\n",
        "  # between the length of the longest list and length of the current list\n",
        "  # this way it's all nice and tidy to the right\n",
        "  for key, value in newTable.items():\n",
        "      print(' ' * (longest - len(''.join(value))) + ' '.join(value))\n",
        "\n",
        "\n",
        "\n",
        "  return newTable"
      ],
      "metadata": {
        "id": "5zfONoC29MXy"
      },
      "execution_count": null,
      "outputs": []
    },
    {
      "cell_type": "code",
      "source": [
        "printTable(tableData)"
      ],
      "metadata": {
        "colab": {
          "base_uri": "https://localhost:8080/"
        },
        "id": "-OjP8WQtFJ3B",
        "outputId": "7750d5e1-dd50-4dc8-8a0a-4ef40df13787"
      },
      "execution_count": null,
      "outputs": [
        {
          "output_type": "stream",
          "name": "stdout",
          "text": [
            "    apples Alice dpg\n",
            "     oranges Bob cat\n",
            "cherries Carol goose\n",
            " bananas David moose\n"
          ]
        },
        {
          "output_type": "execute_result",
          "data": {
            "text/plain": [
              "{0: ['apples', 'Alice', 'dpg'],\n",
              " 1: ['oranges', 'Bob', 'cat'],\n",
              " 2: ['cherries', 'Carol', 'goose'],\n",
              " 3: ['bananas', 'David', 'moose']}"
            ]
          },
          "metadata": {},
          "execution_count": 50
        }
      ]
    },
    {
      "cell_type": "markdown",
      "source": [
        "# Chapter: Pattern Matching with regular expressions\n",
        "\n",
        "Regular expressions = regexes\n",
        "\n",
        "They are a description of a pattern of text.\n",
        "\n",
        "\\d = any single numerical from 0 to 9\n",
        "\n",
        "For example: When detecting the american phone number format....\n",
        "/d/d/d-/d/d/d-/d/d/d/d\n",
        "\n",
        "this is the same as\n",
        "/d{3}-/d{3}-/d{4}\n",
        "\n",
        "Al regexe functions are in the re module"
      ],
      "metadata": {
        "id": "wxxc5P-KMd3f"
      }
    },
    {
      "cell_type": "code",
      "source": [
        "import re"
      ],
      "metadata": {
        "id": "yrai2RkKNN1l"
      },
      "execution_count": 1,
      "outputs": []
    },
    {
      "cell_type": "code",
      "source": [
        "# Use the re.compile() function\n",
        "# Create a regex object\n",
        "phoneNumRegex = re.compile(r'/d/d/d-/d/d/d-/d/d/d/d')"
      ],
      "metadata": {
        "id": "s8s9Zkn0OF9X"
      },
      "execution_count": 2,
      "outputs": []
    },
    {
      "cell_type": "code",
      "source": [
        "# The .search() method searches the string it was passed for \n",
        "# any matches to the regex\n",
        "mo = phoneNumRegex.search('My number is 432-432-4321')\n",
        "print('Phone number found: ' + str(mo))"
      ],
      "metadata": {
        "colab": {
          "base_uri": "https://localhost:8080/"
        },
        "id": "sGI4buSjOmhS",
        "outputId": "aa38e63d-8bf5-454d-8b94-db0c48037fc9"
      },
      "execution_count": 3,
      "outputs": [
        {
          "output_type": "stream",
          "name": "stdout",
          "text": [
            "Phone number found: None\n"
          ]
        }
      ]
    }
  ]
}