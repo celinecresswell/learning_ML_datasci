{
  "nbformat": 4,
  "nbformat_minor": 0,
  "metadata": {
    "colab": {
      "provenance": [],
      "collapsed_sections": [],
      "authorship_tag": "ABX9TyOT4LNn5KI9+w89k3lk35Fi",
      "include_colab_link": true
    },
    "kernelspec": {
      "name": "python3",
      "display_name": "Python 3"
    },
    "language_info": {
      "name": "python"
    }
  },
  "cells": [
    {
      "cell_type": "markdown",
      "metadata": {
        "id": "view-in-github",
        "colab_type": "text"
      },
      "source": [
        "<a href=\"https://colab.research.google.com/github/celinecresswell/learning_ML_datasci/blob/main/outlierdetection.ipynb\" target=\"_parent\"><img src=\"https://colab.research.google.com/assets/colab-badge.svg\" alt=\"Open In Colab\"/></a>"
      ]
    },
    {
      "cell_type": "markdown",
      "source": [
        "# Outlier Detection Guide + Information\n",
        "Following information from:\n",
        "https://www.freecodecamp.org/news/how-to-detect-outliers-in-machine-learning/\n",
        "\n",
        "\n",
        "- When the data follows a normal distribution: Use standard deviation\n",
        "    - Set the lower limit to mu - 3*sigma\n",
        "    - Set the upper limit to mu + 3*sigma\n",
        "    - (sigma is the standard deviation)\n",
        "  "
      ],
      "metadata": {
        "id": "WtNGI94QGuLx"
      }
    },
    {
      "cell_type": "code",
      "execution_count": 1,
      "metadata": {
        "id": "gSrU0mvgGrul"
      },
      "outputs": [],
      "source": [
        "#import neccessary libraries\n",
        "import numpy as np\n",
        "import pandas as pd\n",
        "import seaborn as sns"
      ]
    },
    {
      "cell_type": "code",
      "source": [
        "#generate the dataset\n",
        "def generate_scores(mean=60,std_dev=12,num_samples=200):\n",
        "\tnp.random.seed(27)\n",
        "\tscores = np.random.normal(loc=mean,scale=std_dev,size=num_samples)\n",
        "\tscores = np.round(scores, decimals=0)\n",
        "\treturn scores\n",
        "scores_data = generate_scores()"
      ],
      "metadata": {
        "id": "8tp2-TbXHyrf"
      },
      "execution_count": 5,
      "outputs": []
    },
    {
      "cell_type": "code",
      "source": [
        "sns.set_theme(palette = 'pastel', font = 'Times New Roman')\n",
        "sns.displot(data = scores_data).set(title = 'Distribution of scores', xlabel = 'Scores')\n",
        "#You do not need to set the ylabel here because we are looking at the distribution of \n",
        "# the one column(feature)"
      ],
      "metadata": {
        "colab": {
          "base_uri": "https://localhost:8080/",
          "height": 473
        },
        "id": "uA-rs1j9JVu7",
        "outputId": "2f7bac96-ece4-467d-ff26-b999998d0b78"
      },
      "execution_count": 7,
      "outputs": [
        {
          "output_type": "stream",
          "name": "stderr",
          "text": [
            "WARNING:matplotlib.font_manager:findfont: Font family ['Times New Roman'] not found. Falling back to DejaVu Sans.\n",
            "WARNING:matplotlib.font_manager:findfont: Font family ['Times New Roman'] not found. Falling back to DejaVu Sans.\n"
          ]
        },
        {
          "output_type": "execute_result",
          "data": {
            "text/plain": [
              "<seaborn.axisgrid.FacetGrid at 0x7f373bd06fd0>"
            ]
          },
          "metadata": {},
          "execution_count": 7
        },
        {
          "output_type": "display_data",
          "data": {
            "text/plain": [
              "<Figure size 360x360 with 1 Axes>"
            ],
            "image/png": "[encoded data removed]"
          },
          "metadata": {}
        }
      ]
    },
    {
      "cell_type": "code",
      "source": [
        "#Load the data into a panda dataframe\n",
        "df = pd.DataFrame(scores_data, columns = ['score'])\n",
        "#Only looking at one column, we use columns = [''] to just load the one column into the df\n"
      ],
      "metadata": {
        "id": "aA0m9nIMKqws"
      },
      "execution_count": 6,
      "outputs": []
    },
    {
      "cell_type": "code",
      "source": [
        "df_mean = df.mean()\n",
        "df_std = df.std()\n",
        "print('This is the mean of the score data: ' + str(df_mean) + ', whilst this is the standard deviation: ' + str(df_std))"
      ],
      "metadata": {
        "colab": {
          "base_uri": "https://localhost:8080/"
        },
        "id": "YOGOQQo5K_Wf",
        "outputId": "5d806234-7b38-447c-d029-067cece5a0d7"
      },
      "execution_count": 10,
      "outputs": [
        {
          "output_type": "stream",
          "name": "stdout",
          "text": [
            "This is the mean of the score data: score    61.005\n",
            "dtype: float64, whilst this is the standard deviation: score    11.854434\n",
            "dtype: float64\n"
          ]
        }
      ]
    },
    {
      "cell_type": "code",
      "source": [
        "#Work out the upper and lower limits\n",
        "upper_limit = df['score'].mean() + (3*df.std())\n",
        "lower_limit = df['score'].mean() - (3*df.std())\n",
        "\n",
        "print('This is the upper limit: ' + str(upper_limit))\n",
        "print('This is the lower limit: ' + str(lower_limit))"
      ],
      "metadata": {
        "colab": {
          "base_uri": "https://localhost:8080/"
        },
        "id": "9TzTgqqaLhaY",
        "outputId": "cc7c9809-b799-4cc5-9ebd-1e3f012c1c85"
      },
      "execution_count": 29,
      "outputs": [
        {
          "output_type": "stream",
          "name": "stdout",
          "text": [
            "This is the upper limit: score    96.568303\n",
            "dtype: float64\n",
            "This is the lower limit: score    25.441697\n",
            "dtype: float64\n"
          ]
        }
      ]
    },
    {
      "cell_type": "code",
      "source": [
        "print(lower_limit['score'])\n"
      ],
      "metadata": {
        "colab": {
          "base_uri": "https://localhost:8080/"
        },
        "id": "NyfGv_jwNb49",
        "outputId": "8ec00643-ee6f-4d5d-d86e-f10d4e7af5e2"
      },
      "execution_count": 35,
      "outputs": [
        {
          "output_type": "stream",
          "name": "stdout",
          "text": [
            "25.441697037705573\n"
          ]
        }
      ]
    },
    {
      "cell_type": "code",
      "source": [
        "df_filtered = df[(df['score']<upper_limit['score'])&(df['score']>lower_limit['score'])]"
      ],
      "metadata": {
        "id": "eE76SWvvQKAC"
      },
      "execution_count": 37,
      "outputs": []
    },
    {
      "cell_type": "markdown",
      "source": [
        "An error was originally encountered in the code above: ValueError: Can only compare identically-labeled Series objects\n",
        "\n",
        "The code originally said, within the brackets df['score'] <upper_limit \n",
        "\n",
        "This did not work as the format which upper limit is printed in was not matching the format that we were comparing the series from the dataframe in. We needed to select the particular series from the upper_limit dataframe to be able to compare it."
      ],
      "metadata": {
        "id": "opE4xg1DQs99"
      }
    },
    {
      "cell_type": "markdown",
      "source": [
        "If the data is normally distributed you can also use the z-score.\n",
        "\n",
        "If the data is not normally distributed, use the interquartile range or percentage methods to detect outliers."
      ],
      "metadata": {
        "id": "NHOzPZbpRi7X"
      }
    }
  ]
}