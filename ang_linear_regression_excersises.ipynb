{
  "nbformat": 4,
  "nbformat_minor": 0,
  "metadata": {
    "colab": {
      "provenance": [],
      "collapsed_sections": [],
      "authorship_tag": "ABX9TyPxad68lT04qiTWpHu6p9kq",
      "include_colab_link": true
    },
    "kernelspec": {
      "name": "python3",
      "display_name": "Python 3"
    },
    "language_info": {
      "name": "python"
    }
  },
  "cells": [
    {
      "cell_type": "markdown",
      "metadata": {
        "id": "view-in-github",
        "colab_type": "text"
      },
      "source": [
        "<a href=\"https://colab.research.google.com/github/celinecresswell/learning_ML_datasci/blob/main/ang_linear_regression_excersises.ipynb\" target=\"_parent\"><img src=\"https://colab.research.google.com/assets/colab-badge.svg\" alt=\"Open In Colab\"/></a>"
      ]
    },
    {
      "cell_type": "code",
      "source": [
        "import numpy as np\n",
        "import matplotlib.pyplot as plt\n",
        "import pandas as pd"
      ],
      "metadata": {
        "id": "yPf734p_N9YN"
      },
      "execution_count": 1,
      "outputs": []
    },
    {
      "cell_type": "code",
      "execution_count": 2,
      "metadata": {
        "colab": {
          "base_uri": "https://localhost:8080/"
        },
        "id": "tTHcgXcvMoUX",
        "outputId": "776173b2-5360-48b2-e361-13447ef5497e"
      },
      "outputs": [
        {
          "output_type": "stream",
          "name": "stdout",
          "text": [
            "[[1 0 0 0 0]\n",
            " [0 1 0 0 0]\n",
            " [0 0 1 0 0]\n",
            " [0 0 0 1 0]\n",
            " [0 0 0 0 1]]\n"
          ]
        }
      ],
      "source": [
        "# Code a 5 x 5 identity matrix\n",
        "\n",
        "iMatrix = np.array([[1, 0, 0, 0, 0],\n",
        "           [0, 1, 0, 0, 0],\n",
        "           [0, 0, 1, 0, 0 ],\n",
        "           [0, 0, 0, 1, 0],\n",
        "           [0, 0, 0, 0, 1]])\n",
        "\n",
        "print(iMatrix)"
      ]
    },
    {
      "cell_type": "markdown",
      "source": [
        "Excersise 2\n",
        "\n",
        "Linear regression with one variable to predict profits for a food truck\n",
        "\n",
        "Data on various cities and profits and populations for the cities\n",
        "\n",
        "Trying to decide on which city to expand to next\n"
      ],
      "metadata": {
        "id": "9TPhxNIkPBd3"
      }
    },
    {
      "cell_type": "code",
      "source": [
        "data = pd.read_csv('Uni_linear.txt', header = None)"
      ],
      "metadata": {
        "id": "NYA1MejCPhmr"
      },
      "execution_count": 4,
      "outputs": []
    },
    {
      "cell_type": "markdown",
      "source": [
        "Learning - What does header = None do when reading in the data?\n",
        "\n",
        "It assigns a series of numbers from 0 to number of columns "
      ],
      "metadata": {
        "id": "UpVQ5plIP_fJ"
      }
    },
    {
      "cell_type": "code",
      "source": [
        "data.head()"
      ],
      "metadata": {
        "colab": {
          "base_uri": "https://localhost:8080/",
          "height": 206
        },
        "id": "CTUz3gMdY_Ed",
        "outputId": "70ecb4e2-9cd2-4f83-fb2b-431d839e4f64"
      },
      "execution_count": 5,
      "outputs": [
        {
          "output_type": "execute_result",
          "data": {
            "text/plain": [
              "        0        1\n",
              "0  6.1101  17.5920\n",
              "1  5.5277   9.1302\n",
              "2  8.5186  13.6620\n",
              "3  7.0032  11.8540\n",
              "4  5.8598   6.8233"
            ],
            "text/html": [
              "\n",
              "  <div id=\"df-737d21ba-a0f4-4fc4-9a3a-519a0be6eb2b\">\n",
              "    <div class=\"colab-df-container\">\n",
              "      <div>\n",
              "<style scoped>\n",
              "    .dataframe tbody tr th:only-of-type {\n",
              "        vertical-align: middle;\n",
              "    }\n",
              "\n",
              "    .dataframe tbody tr th {\n",
              "        vertical-align: top;\n",
              "    }\n",
              "\n",
              "    .dataframe thead th {\n",
              "        text-align: right;\n",
              "    }\n",
              "</style>\n",
              "<table border=\"1\" class=\"dataframe\">\n",
              "  <thead>\n",
              "    <tr style=\"text-align: right;\">\n",
              "      <th></th>\n",
              "      <th>0</th>\n",
              "      <th>1</th>\n",
              "    </tr>\n",
              "  </thead>\n",
              "  <tbody>\n",
              "    <tr>\n",
              "      <th>0</th>\n",
              "      <td>6.1101</td>\n",
              "      <td>17.5920</td>\n",
              "    </tr>\n",
              "    <tr>\n",
              "      <th>1</th>\n",
              "      <td>5.5277</td>\n",
              "      <td>9.1302</td>\n",
              "    </tr>\n",
              "    <tr>\n",
              "      <th>2</th>\n",
              "      <td>8.5186</td>\n",
              "      <td>13.6620</td>\n",
              "    </tr>\n",
              "    <tr>\n",
              "      <th>3</th>\n",
              "      <td>7.0032</td>\n",
              "      <td>11.8540</td>\n",
              "    </tr>\n",
              "    <tr>\n",
              "      <th>4</th>\n",
              "      <td>5.8598</td>\n",
              "      <td>6.8233</td>\n",
              "    </tr>\n",
              "  </tbody>\n",
              "</table>\n",
              "</div>\n",
              "      <button class=\"colab-df-convert\" onclick=\"convertToInteractive('df-737d21ba-a0f4-4fc4-9a3a-519a0be6eb2b')\"\n",
              "              title=\"Convert this dataframe to an interactive table.\"\n",
              "              style=\"display:none;\">\n",
              "        \n",
              "  <svg xmlns=\"http://www.w3.org/2000/svg\" height=\"24px\"viewBox=\"0 0 24 24\"\n",
              "       width=\"24px\">\n",
              "    <path d=\"M0 0h24v24H0V0z\" fill=\"none\"/>\n",
              "    <path d=\"M18.56 5.44l.94 2.06.94-2.06 2.06-.94-2.06-.94-.94-2.06-.94 2.06-2.06.94zm-11 1L8.5 8.5l.94-2.06 2.06-.94-2.06-.94L8.5 2.5l-.94 2.06-2.06.94zm10 10l.94 2.06.94-2.06 2.06-.94-2.06-.94-.94-2.06-.94 2.06-2.06.94z\"/><path d=\"M17.41 7.96l-1.37-1.37c-.4-.4-.92-.59-1.43-.59-.52 0-1.04.2-1.43.59L10.3 9.45l-7.72 7.72c-.78.78-.78 2.05 0 2.83L4 21.41c.39.39.9.59 1.41.59.51 0 1.02-.2 1.41-.59l7.78-7.78 2.81-2.81c.8-.78.8-2.07 0-2.86zM5.41 20L4 18.59l7.72-7.72 1.47 1.35L5.41 20z\"/>\n",
              "  </svg>\n",
              "      </button>\n",
              "      \n",
              "  <style>\n",
              "    .colab-df-container {\n",
              "      display:flex;\n",
              "      flex-wrap:wrap;\n",
              "      gap: 12px;\n",
              "    }\n",
              "\n",
              "    .colab-df-convert {\n",
              "      background-color: #E8F0FE;\n",
              "      border: none;\n",
              "      border-radius: 50%;\n",
              "      cursor: pointer;\n",
              "      display: none;\n",
              "      fill: #1967D2;\n",
              "      height: 32px;\n",
              "      padding: 0 0 0 0;\n",
              "      width: 32px;\n",
              "    }\n",
              "\n",
              "    .colab-df-convert:hover {\n",
              "      background-color: #E2EBFA;\n",
              "      box-shadow: 0px 1px 2px rgba(60, 64, 67, 0.3), 0px 1px 3px 1px rgba(60, 64, 67, 0.15);\n",
              "      fill: #174EA6;\n",
              "    }\n",
              "\n",
              "    [theme=dark] .colab-df-convert {\n",
              "      background-color: #3B4455;\n",
              "      fill: #D2E3FC;\n",
              "    }\n",
              "\n",
              "    [theme=dark] .colab-df-convert:hover {\n",
              "      background-color: #434B5C;\n",
              "      box-shadow: 0px 1px 3px 1px rgba(0, 0, 0, 0.15);\n",
              "      filter: drop-shadow(0px 1px 2px rgba(0, 0, 0, 0.3));\n",
              "      fill: #FFFFFF;\n",
              "    }\n",
              "  </style>\n",
              "\n",
              "      <script>\n",
              "        const buttonEl =\n",
              "          document.querySelector('#df-737d21ba-a0f4-4fc4-9a3a-519a0be6eb2b button.colab-df-convert');\n",
              "        buttonEl.style.display =\n",
              "          google.colab.kernel.accessAllowed ? 'block' : 'none';\n",
              "\n",
              "        async function convertToInteractive(key) {\n",
              "          const element = document.querySelector('#df-737d21ba-a0f4-4fc4-9a3a-519a0be6eb2b');\n",
              "          const dataTable =\n",
              "            await google.colab.kernel.invokeFunction('convertToInteractive',\n",
              "                                                     [key], {});\n",
              "          if (!dataTable) return;\n",
              "\n",
              "          const docLinkHtml = 'Like what you see? Visit the ' +\n",
              "            '<a target=\"_blank\" href=https://colab.research.google.com/notebooks/data_table.ipynb>data table notebook</a>'\n",
              "            + ' to learn more about interactive tables.';\n",
              "          element.innerHTML = '';\n",
              "          dataTable['output_type'] = 'display_data';\n",
              "          await google.colab.output.renderOutput(dataTable, element);\n",
              "          const docLink = document.createElement('div');\n",
              "          docLink.innerHTML = docLinkHtml;\n",
              "          element.appendChild(docLink);\n",
              "        }\n",
              "      </script>\n",
              "    </div>\n",
              "  </div>\n",
              "  "
            ]
          },
          "metadata": {},
          "execution_count": 5
        }
      ]
    },
    {
      "cell_type": "code",
      "source": [
        "data.describe()"
      ],
      "metadata": {
        "colab": {
          "base_uri": "https://localhost:8080/",
          "height": 300
        },
        "id": "hSbfGuV4ZCwL",
        "outputId": "29f8937f-bdb9-46a9-8799-5a16ef38ff34"
      },
      "execution_count": 6,
      "outputs": [
        {
          "output_type": "execute_result",
          "data": {
            "text/plain": [
              "               0          1\n",
              "count  97.000000  97.000000\n",
              "mean    8.159800   5.839135\n",
              "std     3.869884   5.510262\n",
              "min     5.026900  -2.680700\n",
              "25%     5.707700   1.986900\n",
              "50%     6.589400   4.562300\n",
              "75%     8.578100   7.046700\n",
              "max    22.203000  24.147000"
            ],
            "text/html": [
              "\n",
              "  <div id=\"df-0927e9c8-d3f0-45b6-9de4-bc961d335b59\">\n",
              "    <div class=\"colab-df-container\">\n",
              "      <div>\n",
              "<style scoped>\n",
              "    .dataframe tbody tr th:only-of-type {\n",
              "        vertical-align: middle;\n",
              "    }\n",
              "\n",
              "    .dataframe tbody tr th {\n",
              "        vertical-align: top;\n",
              "    }\n",
              "\n",
              "    .dataframe thead th {\n",
              "        text-align: right;\n",
              "    }\n",
              "</style>\n",
              "<table border=\"1\" class=\"dataframe\">\n",
              "  <thead>\n",
              "    <tr style=\"text-align: right;\">\n",
              "      <th></th>\n",
              "      <th>0</th>\n",
              "      <th>1</th>\n",
              "    </tr>\n",
              "  </thead>\n",
              "  <tbody>\n",
              "    <tr>\n",
              "      <th>count</th>\n",
              "      <td>97.000000</td>\n",
              "      <td>97.000000</td>\n",
              "    </tr>\n",
              "    <tr>\n",
              "      <th>mean</th>\n",
              "      <td>8.159800</td>\n",
              "      <td>5.839135</td>\n",
              "    </tr>\n",
              "    <tr>\n",
              "      <th>std</th>\n",
              "      <td>3.869884</td>\n",
              "      <td>5.510262</td>\n",
              "    </tr>\n",
              "    <tr>\n",
              "      <th>min</th>\n",
              "      <td>5.026900</td>\n",
              "      <td>-2.680700</td>\n",
              "    </tr>\n",
              "    <tr>\n",
              "      <th>25%</th>\n",
              "      <td>5.707700</td>\n",
              "      <td>1.986900</td>\n",
              "    </tr>\n",
              "    <tr>\n",
              "      <th>50%</th>\n",
              "      <td>6.589400</td>\n",
              "      <td>4.562300</td>\n",
              "    </tr>\n",
              "    <tr>\n",
              "      <th>75%</th>\n",
              "      <td>8.578100</td>\n",
              "      <td>7.046700</td>\n",
              "    </tr>\n",
              "    <tr>\n",
              "      <th>max</th>\n",
              "      <td>22.203000</td>\n",
              "      <td>24.147000</td>\n",
              "    </tr>\n",
              "  </tbody>\n",
              "</table>\n",
              "</div>\n",
              "      <button class=\"colab-df-convert\" onclick=\"convertToInteractive('df-0927e9c8-d3f0-45b6-9de4-bc961d335b59')\"\n",
              "              title=\"Convert this dataframe to an interactive table.\"\n",
              "              style=\"display:none;\">\n",
              "        \n",
              "  <svg xmlns=\"http://www.w3.org/2000/svg\" height=\"24px\"viewBox=\"0 0 24 24\"\n",
              "       width=\"24px\">\n",
              "    <path d=\"M0 0h24v24H0V0z\" fill=\"none\"/>\n",
              "    <path d=\"M18.56 5.44l.94 2.06.94-2.06 2.06-.94-2.06-.94-.94-2.06-.94 2.06-2.06.94zm-11 1L8.5 8.5l.94-2.06 2.06-.94-2.06-.94L8.5 2.5l-.94 2.06-2.06.94zm10 10l.94 2.06.94-2.06 2.06-.94-2.06-.94-.94-2.06-.94 2.06-2.06.94z\"/><path d=\"M17.41 7.96l-1.37-1.37c-.4-.4-.92-.59-1.43-.59-.52 0-1.04.2-1.43.59L10.3 9.45l-7.72 7.72c-.78.78-.78 2.05 0 2.83L4 21.41c.39.39.9.59 1.41.59.51 0 1.02-.2 1.41-.59l7.78-7.78 2.81-2.81c.8-.78.8-2.07 0-2.86zM5.41 20L4 18.59l7.72-7.72 1.47 1.35L5.41 20z\"/>\n",
              "  </svg>\n",
              "      </button>\n",
              "      \n",
              "  <style>\n",
              "    .colab-df-container {\n",
              "      display:flex;\n",
              "      flex-wrap:wrap;\n",
              "      gap: 12px;\n",
              "    }\n",
              "\n",
              "    .colab-df-convert {\n",
              "      background-color: #E8F0FE;\n",
              "      border: none;\n",
              "      border-radius: 50%;\n",
              "      cursor: pointer;\n",
              "      display: none;\n",
              "      fill: #1967D2;\n",
              "      height: 32px;\n",
              "      padding: 0 0 0 0;\n",
              "      width: 32px;\n",
              "    }\n",
              "\n",
              "    .colab-df-convert:hover {\n",
              "      background-color: #E2EBFA;\n",
              "      box-shadow: 0px 1px 2px rgba(60, 64, 67, 0.3), 0px 1px 3px 1px rgba(60, 64, 67, 0.15);\n",
              "      fill: #174EA6;\n",
              "    }\n",
              "\n",
              "    [theme=dark] .colab-df-convert {\n",
              "      background-color: #3B4455;\n",
              "      fill: #D2E3FC;\n",
              "    }\n",
              "\n",
              "    [theme=dark] .colab-df-convert:hover {\n",
              "      background-color: #434B5C;\n",
              "      box-shadow: 0px 1px 3px 1px rgba(0, 0, 0, 0.15);\n",
              "      filter: drop-shadow(0px 1px 2px rgba(0, 0, 0, 0.3));\n",
              "      fill: #FFFFFF;\n",
              "    }\n",
              "  </style>\n",
              "\n",
              "      <script>\n",
              "        const buttonEl =\n",
              "          document.querySelector('#df-0927e9c8-d3f0-45b6-9de4-bc961d335b59 button.colab-df-convert');\n",
              "        buttonEl.style.display =\n",
              "          google.colab.kernel.accessAllowed ? 'block' : 'none';\n",
              "\n",
              "        async function convertToInteractive(key) {\n",
              "          const element = document.querySelector('#df-0927e9c8-d3f0-45b6-9de4-bc961d335b59');\n",
              "          const dataTable =\n",
              "            await google.colab.kernel.invokeFunction('convertToInteractive',\n",
              "                                                     [key], {});\n",
              "          if (!dataTable) return;\n",
              "\n",
              "          const docLinkHtml = 'Like what you see? Visit the ' +\n",
              "            '<a target=\"_blank\" href=https://colab.research.google.com/notebooks/data_table.ipynb>data table notebook</a>'\n",
              "            + ' to learn more about interactive tables.';\n",
              "          element.innerHTML = '';\n",
              "          dataTable['output_type'] = 'display_data';\n",
              "          await google.colab.output.renderOutput(dataTable, element);\n",
              "          const docLink = document.createElement('div');\n",
              "          docLink.innerHTML = docLinkHtml;\n",
              "          element.appendChild(docLink);\n",
              "        }\n",
              "      </script>\n",
              "    </div>\n",
              "  </div>\n",
              "  "
            ]
          },
          "metadata": {},
          "execution_count": 6
        }
      ]
    },
    {
      "cell_type": "markdown",
      "source": [
        "Before starting a task it can be useful to understand the data by visualising it. We have two properties so we can make a 2D plot.\n",
        "- Scatter plot\n",
        "\n",
        "When setting the range of the x and y axes of the plot, use the previous .describe() output to determine an appropriate range."
      ],
      "metadata": {
        "id": "K0TUsM6Phw_E"
      }
    },
    {
      "cell_type": "code",
      "source": [
        "plt.scatter(data[0],data[1])\n",
        "plt.xticks(np.arange(5,30, step =5))\n",
        "plt.yticks(np.arange(-5,25, step = 5))\n",
        "plt.xlabel('Population of City / 10000')\n",
        "plt.ylabel('Profit / $10,000')\n",
        "plt.title('Profit prediction')"
      ],
      "metadata": {
        "colab": {
          "base_uri": "https://localhost:8080/",
          "height": 313
        },
        "id": "Dnz7Fmwjhwuu",
        "outputId": "974c329c-62f0-4dd5-a9ae-755c065f0807"
      },
      "execution_count": 8,
      "outputs": [
        {
          "output_type": "execute_result",
          "data": {
            "text/plain": [
              "Text(0.5, 1.0, 'Profit prediction')"
            ]
          },
          "metadata": {},
          "execution_count": 8
        },
        {
          "output_type": "display_data",
          "data": {
            "text/plain": [
              "<Figure size 432x288 with 1 Axes>"
            ],
            "image/png": "[encoded data removed]"
          },
          "metadata": {
            "needs_background": "light"
          }
        }
      ]
    },
    {
      "cell_type": "markdown",
      "source": [
        "Fit the linear regression parameters theta to our dataset using gradient descent"
      ],
      "metadata": {
        "id": "t5EVB1U2jkjs"
      }
    },
    {
      "cell_type": "code",
      "source": [
        "# It is helpful to monitor the convergence by computing the cost\n",
        "# Calculate J(theta)\n",
        "\n",
        "def computeCost(X,y,theta):\n",
        "  m = len(y)\n",
        "  predictions= X.dot(theta)\n",
        "  square_error = (predictions - y)**2\n",
        "  \n",
        "  return (1/(2*m))*np.sum(square_error)"
      ],
      "metadata": {
        "id": "lMBpK9ihkSn2"
      },
      "execution_count": 9,
      "outputs": []
    },
    {
      "cell_type": "markdown",
      "source": [
        "Learning point - np.ones() returns a new array of given shape and data type. The element's value is set to 1."
      ],
      "metadata": {
        "id": "T-8lRAFBmHEd"
      }
    },
    {
      "cell_type": "code",
      "source": [
        "data_n = data.values\n",
        "m = data_n[:,0].size\n",
        "#Add a column of 1s to x.\n",
        "X = np.append(np.ones((m,1)),data_n[:,0].reshape(m,1), axis =1)\n",
        "y = data_n[:,1].reshape(m,1)\n",
        "\n",
        "#Initialise fitting parameters\n",
        "theta = np.zeros((2,1))\n",
        "\n",
        "print(theta)\n",
        "\n",
        "computeCost(X,y,theta)"
      ],
      "metadata": {
        "colab": {
          "base_uri": "https://localhost:8080/"
        },
        "id": "o1J1cRiXlegh",
        "outputId": "56ed59e9-8644-4937-8dae-55bcf7e74fcd"
      },
      "execution_count": 17,
      "outputs": [
        {
          "output_type": "stream",
          "name": "stdout",
          "text": [
            "[[0.]\n",
            " [0.]]\n"
          ]
        },
        {
          "output_type": "execute_result",
          "data": {
            "text/plain": [
              "32.072733877455676"
            ]
          },
          "metadata": {},
          "execution_count": 17
        }
      ]
    },
    {
      "cell_type": "markdown",
      "source": [
        "Objective of linear regression is to minimise the cost function\n",
        "\n",
        "- Update the equation\n",
        "- Repeat until convergence"
      ],
      "metadata": {
        "id": "u-dchuG0sQVq"
      }
    },
    {
      "cell_type": "markdown",
      "source": [
        ".dot() performs the dot product of two arrays"
      ],
      "metadata": {
        "id": "Etxvpc3_ttUD"
      }
    },
    {
      "cell_type": "markdown",
      "source": [
        "-= is a Subtraction Assignment\n",
        "It subtracts a value from that variable and then assigns that new value to the variable"
      ],
      "metadata": {
        "id": "kfTh9lVMu4Aj"
      }
    },
    {
      "cell_type": "code",
      "source": [
        "def gradientDescent(X,y,theta,alpha,n_inter):\n",
        "  \"\"\"\n",
        "  Take in the numpy array X,y and theta\n",
        "  Update theta by taking n_inter gradient steps\n",
        "  With learning rate of alpha\n",
        "\n",
        "  return theta and the list of the cost of theta during each iteration\n",
        "  \"\"\"\n",
        "\n",
        "  m = len(y)\n",
        "  J_history = []\n",
        "\n",
        "  for i in range(n_inter):\n",
        "    predictions = X.dot(theta)\n",
        "    error = np.dot(X.transpose(),(predictions -y))\n",
        "    descent = alpha * 1/m *error\n",
        "    theta -= descent\n",
        "    J_history.append(computeCost(X,y,theta))\n",
        "  \n",
        "  return theta, J_history"
      ],
      "metadata": {
        "id": "Xjn8ano1suK-"
      },
      "execution_count": 18,
      "outputs": []
    },
    {
      "cell_type": "code",
      "source": [
        "theta, J_history = gradientDescent(X,y,theta, 0.01, 1500)\n",
        "print(\"h(x) =\" + str(round(theta[0,0],2)) + \" + \" + str(round(theta[1,0],2)) + \"x1\")\n"
      ],
      "metadata": {
        "colab": {
          "base_uri": "https://localhost:8080/"
        },
        "id": "kuRrNpVVznnp",
        "outputId": "174babcd-c423-4329-99e6-a738c4559712"
      },
      "execution_count": 27,
      "outputs": [
        {
          "output_type": "stream",
          "name": "stdout",
          "text": [
            "h(x) =-3.9 + 1.19x1\n"
          ]
        }
      ]
    },
    {
      "cell_type": "markdown",
      "source": [
        "To understand the cost function J(theta) better, plot the cost over a 2 dimensional grid of theta0 and theta1 values."
      ],
      "metadata": {
        "id": "BAbUNLaG3Yb_"
      }
    },
    {
      "cell_type": "code",
      "source": [
        "#Generating the values for theta0, theta 1 and the resulting cost value\n",
        "\n",
        "theta0_vals = np.linspace(-10,10,100)\n",
        "theta1_vals = np.linspace(-1,4,100)\n",
        "#Create an array which will contain the resulting cost values which is filled with 0s and is the same size as the number of theta0 and theta1\n",
        "J_vals = np.zeros((len(theta0_vals),len(theta1_vals)))\n",
        "\n",
        "for i in range(len(theta0_vals)):\n",
        "  for j in range(len(theta1_vals)):\n",
        "    t = np.array([theta0_vals[i], theta1_vals[j]])\n",
        "    J_vals[i,j] = computeCost(X,y,t)"
      ],
      "metadata": {
        "id": "OOwE_TFw32oW"
      },
      "execution_count": 28,
      "outputs": []
    },
    {
      "cell_type": "code",
      "source": [
        "#Generating the surface plot\n",
        "fig = plt.figure()\n",
        "ax = fig.add_subplot(111, projection='3d')\n",
        "surf=ax.plot_surface(theta0_vals,theta1_vals,J_vals,cmap=\"coolwarm\")\n",
        "fig.colorbar(surf, shrink=0.5, aspect=5)\n",
        "ax.set_xlabel(\"$\\Theta_0$\")\n",
        "ax.set_ylabel(\"$\\Theta_1$\")\n",
        "ax.set_zlabel(\"$J(\\Theta)$\")\n",
        "\n",
        "#rotate for better angle\n",
        "ax.view_init(30,120)"
      ],
      "metadata": {
        "colab": {
          "base_uri": "https://localhost:8080/",
          "height": 248
        },
        "id": "fzXYmJ_i-Uzk",
        "outputId": "6764b46f-6bb7-4383-9b96-34cd8a0b8e46"
      },
      "execution_count": 29,
      "outputs": [
        {
          "output_type": "display_data",
          "data": {
            "text/plain": [
              "<Figure size 432x288 with 2 Axes>"
            ],
            "image/png": "[encoded data removed]"
          },
          "metadata": {
            "needs_background": "light"
          }
        }
      ]
    }
  ]
}