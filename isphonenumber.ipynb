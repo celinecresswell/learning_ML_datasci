{
  "nbformat": 4,
  "nbformat_minor": 0,
  "metadata": {
    "colab": {
      "provenance": [],
      "collapsed_sections": [],
      "authorship_tag": "ABX9TyMwzxcMv9y/pmtSCBu4fkfg",
      "include_colab_link": true
    },
    "kernelspec": {
      "name": "python3",
      "display_name": "Python 3"
    },
    "language_info": {
      "name": "python"
    }
  },
  "cells": [
    {
      "cell_type": "markdown",
      "metadata": {
        "id": "view-in-github",
        "colab_type": "text"
      },
      "source": [
        "<a href=\"https://colab.research.google.com/github/celinecresswell/learning_ML_datasci/blob/main/isphonenumber.ipynb\" target=\"_parent\"><img src=\"https://colab.research.google.com/assets/colab-badge.svg\" alt=\"Open In Colab\"/></a>"
      ]
    },
    {
      "cell_type": "code",
      "execution_count": null,
      "metadata": {
        "id": "gR-Ncz8yVkZi"
      },
      "outputs": [],
      "source": [
        "#Regex task from Automate the boring stuff  "
      ]
    },
    {
      "cell_type": "code",
      "source": [
        "def isPhoneNumber(text):\n",
        "  if len(text) != 12:\n",
        "    return False\n",
        "  if text[3] != '-':\n",
        "    return False\n",
        "  for i in range(4,7):\n",
        "    if not text[i].isdecimal():\n",
        "      return False\n",
        "  if text[7] != '-':\n",
        "    return False\n",
        "  for i in range (8,12):\n",
        "    if not text[i].isdecimal():\n",
        "      return False\n",
        "  return True\n",
        "\n",
        "\n",
        "#print('415-555-4242 is a phone number:')\n",
        "#print(isPhoneNumber('415-555-4242'))\n",
        "#print('moshi moshi is a phone number:')\n",
        "#print(isPhoneNumber('moshi moshi'))\n",
        "\n",
        "message = 'Call at  412-555-1011 tomorrow.  415--555-9999 is my office.'\n",
        "for i in range(len(message)):\n",
        "  chunk = message[i:i+12]\n",
        "  if isPhoneNumber(chunk):\n",
        "    print('Phone number found:' +chunk)\n",
        "print('Done')"
      ],
      "metadata": {
        "colab": {
          "base_uri": "https://localhost:8080/"
        },
        "id": "wji06g41V401",
        "outputId": "fe0ff456-ad24-4527-a898-79b5b1a74c1d"
      },
      "execution_count": 3,
      "outputs": [
        {
          "output_type": "stream",
          "name": "stdout",
          "text": [
            "Phone number found:412-555-1011\n",
            "Phone number found:15--555-9999\n",
            "Done\n"
          ]
        }
      ]
    },
    {
      "cell_type": "markdown",
      "source": [
        "Moral of the excersise: A lot of code for a limited output"
      ],
      "metadata": {
        "id": "qVPVJ23cYSCq"
      }
    },
    {
      "cell_type": "code",
      "source": [
        "import re"
      ],
      "metadata": {
        "id": "pP3gxS79Ct27"
      },
      "execution_count": 2,
      "outputs": []
    },
    {
      "cell_type": "code",
      "source": [
        "regexSearch = re.compile(r'\\d\\d\\d-\\d\\d\\d-\\d\\d\\d\\d')\n",
        "textToSearch = 'This is my phone number 444-333-2222'\n",
        "mo = regexSearch.search(textToSearch)\n",
        "\n",
        "print('The phone number found was:' + mo.group())\n"
      ],
      "metadata": {
        "colab": {
          "base_uri": "https://localhost:8080/"
        },
        "id": "mn-Wwgq2CvVb",
        "outputId": "58012469-60df-45a9-e5da-c2dedbd063fd"
      },
      "execution_count": 3,
      "outputs": [
        {
          "output_type": "stream",
          "name": "stdout",
          "text": [
            "The phone number found was:444-333-2222\n"
          ]
        }
      ]
    }
  ]
}