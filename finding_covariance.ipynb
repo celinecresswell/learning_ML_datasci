{
  "nbformat": 4,
  "nbformat_minor": 0,
  "metadata": {
    "colab": {
      "provenance": [],
      "collapsed_sections": [],
      "authorship_tag": "ABX9TyMRJUVHxVDywJmhsbMvKrOr",
      "include_colab_link": true
    },
    "kernelspec": {
      "name": "python3",
      "display_name": "Python 3"
    },
    "language_info": {
      "name": "python"
    }
  },
  "cells": [
    {
      "cell_type": "markdown",
      "metadata": {
        "id": "view-in-github",
        "colab_type": "text"
      },
      "source": [
        "<a href=\"https://colab.research.google.com/github/celinecresswell/learning_ML_datasci/blob/main/finding_covariance.ipynb\" target=\"_parent\"><img src=\"https://colab.research.google.com/assets/colab-badge.svg\" alt=\"Open In Colab\"/></a>"
      ]
    },
    {
      "cell_type": "code",
      "execution_count": 2,
      "metadata": {
        "colab": {
          "base_uri": "https://localhost:8080/"
        },
        "id": "cgicnSkxc5Ms",
        "outputId": "0915390e-4b8d-4a84-a784-0d2b8d34dbb5"
      },
      "outputs": [
        {
          "output_type": "stream",
          "name": "stdout",
          "text": [
            "0.145\n"
          ]
        }
      ],
      "source": [
        "p = [15,12,8,8,7,7,7,6,5,3]\n",
        "h = [10,25,17,11,13,17,20,13,9,15]\n",
        "p_bar = sum(p)/len(p)\n",
        "h_bar = sum(h)/len(h)\n",
        "cov = 0\n",
        "p_var = 0\n",
        "h_var = 0\n",
        "\n",
        "for i in range(len(p)):\n",
        "    cov += (p[i]-p_bar)*(h[i]-h_bar)\n",
        "    p_var += (p[i]-p_bar)**2\n",
        "    h_var += (h[i]-h_bar)**2\n",
        "\n",
        "pear = cov/((p_var**0.5)*(h_var**0.5))\n",
        "print(\"%.3f\" % pear)"
      ]
    }
  ]
}